{
  "nbformat": 4,
  "nbformat_minor": 0,
  "metadata": {
    "colab": {
      "provenance": [],
      "authorship_tag": "ABX9TyPyShL61dfxnk7vSu9ZXSiT",
      "include_colab_link": true
    },
    "kernelspec": {
      "name": "python3",
      "display_name": "Python 3"
    },
    "language_info": {
      "name": "python"
    }
  },
  "cells": [
    {
      "cell_type": "markdown",
      "metadata": {
        "id": "view-in-github",
        "colab_type": "text"
      },
      "source": [
        "<a href=\"https://colab.research.google.com/github/alexdcl2003/PAU/blob/main/PRACTICA_1SIMULACION.ipynb\" target=\"_parent\"><img src=\"https://colab.research.google.com/assets/colab-badge.svg\" alt=\"Open In Colab\"/></a>"
      ]
    },
    {
      "cell_type": "markdown",
      "source": [
        "**Objetivo**\n",
        "- Importar librerias\n",
        "- definir variables de sus tipos\n",
        "- realizar operaciones con matrices\n",
        "- evaluar funciones\n",
        "- graficar en 2D y 3D"
      ],
      "metadata": {
        "id": "BgxPkvZc_9mo"
      }
    },
    {
      "cell_type": "markdown",
      "source": [
        "**importar librerias**"
      ],
      "metadata": {
        "id": "D91GvDyIAgAA"
      }
    },
    {
      "cell_type": "code",
      "source": [
        "import numpy as np\n",
        "import matplotlib.pyplot as plt\n",
        "import random as rnd"
      ],
      "metadata": {
        "id": "29PMcqUhAgYb"
      },
      "execution_count": null,
      "outputs": []
    },
    {
      "cell_type": "code",
      "source": [
        "a=10\n",
        "type(a)"
      ],
      "metadata": {
        "colab": {
          "base_uri": "https://localhost:8080/"
        },
        "id": "JRLUI9jxBX3Q",
        "outputId": "95936e07-ba9d-4b22-f16a-a5c0b6fd5d92"
      },
      "execution_count": null,
      "outputs": [
        {
          "output_type": "execute_result",
          "data": {
            "text/plain": [
              "int"
            ]
          },
          "metadata": {},
          "execution_count": 5
        }
      ]
    },
    {
      "cell_type": "code",
      "source": [
        "b=2.0\n",
        "type(b)"
      ],
      "metadata": {
        "colab": {
          "base_uri": "https://localhost:8080/"
        },
        "id": "c_j60QIvBhmI",
        "outputId": "41711e76-1fbf-4ee7-ba80-2960919f3de4"
      },
      "execution_count": null,
      "outputs": [
        {
          "output_type": "execute_result",
          "data": {
            "text/plain": [
              "float"
            ]
          },
          "metadata": {},
          "execution_count": 7
        }
      ]
    },
    {
      "cell_type": "code",
      "source": [
        "c=False\n",
        "type(c)"
      ],
      "metadata": {
        "colab": {
          "base_uri": "https://localhost:8080/"
        },
        "id": "VsJxaoDdBoOF",
        "outputId": "79403592-9f48-4074-a6de-98e2f5a45dac"
      },
      "execution_count": null,
      "outputs": [
        {
          "output_type": "execute_result",
          "data": {
            "text/plain": [
              "bool"
            ]
          },
          "metadata": {},
          "execution_count": 9
        }
      ]
    },
    {
      "cell_type": "code",
      "source": [
        "fruta='naranja'\n",
        "type(fruta)"
      ],
      "metadata": {
        "colab": {
          "base_uri": "https://localhost:8080/"
        },
        "id": "OPHZPsoHBzeS",
        "outputId": "cc994000-36a0-4edd-d249-287f9a3d393b"
      },
      "execution_count": null,
      "outputs": [
        {
          "output_type": "execute_result",
          "data": {
            "text/plain": [
              "str"
            ]
          },
          "metadata": {},
          "execution_count": 12
        }
      ]
    },
    {
      "cell_type": "code",
      "source": [
        "len(fruta)"
      ],
      "metadata": {
        "colab": {
          "base_uri": "https://localhost:8080/"
        },
        "id": "Cg4LcYgmB5ph",
        "outputId": "17ec7771-640f-4bec-9bc5-08a0bdd0122a"
      },
      "execution_count": null,
      "outputs": [
        {
          "output_type": "execute_result",
          "data": {
            "text/plain": [
              "7"
            ]
          },
          "metadata": {},
          "execution_count": 13
        }
      ]
    },
    {
      "cell_type": "markdown",
      "source": [
        "### Lista"
      ],
      "metadata": {
        "id": "0sXrrwo9CKjg"
      }
    },
    {
      "cell_type": "code",
      "source": [
        "D=[4,2,3,5,3,2]\n",
        "E=[4,2,1,4]\n",
        "print(D+E)"
      ],
      "metadata": {
        "colab": {
          "base_uri": "https://localhost:8080/"
        },
        "id": "Xmsmcu2hCOyL",
        "outputId": "ac75057f-39c9-4dad-eda2-ff04a9ba37c2"
      },
      "execution_count": null,
      "outputs": [
        {
          "output_type": "stream",
          "name": "stdout",
          "text": [
            "[4, 2, 3, 5, 3, 2, 4, 2, 1, 4]\n"
          ]
        }
      ]
    },
    {
      "cell_type": "code",
      "source": [
        "ciudades=['Manta', 'Guayaquil','Cuenca','Loja']\n",
        "print(ciudades)"
      ],
      "metadata": {
        "colab": {
          "base_uri": "https://localhost:8080/"
        },
        "id": "YSnLlV6yCqwu",
        "outputId": "185c578c-b783-4be3-cd9a-66ace6fa5478"
      },
      "execution_count": null,
      "outputs": [
        {
          "output_type": "stream",
          "name": "stdout",
          "text": [
            "['Manta', 'Guayaquil', 'Cuenca', 'Loja']\n"
          ]
        }
      ]
    },
    {
      "cell_type": "code",
      "source": [
        "ciudades+=['la troncal','Bucay']\n",
        "ciudades"
      ],
      "metadata": {
        "colab": {
          "base_uri": "https://localhost:8080/"
        },
        "id": "_9wRqSO_DG7D",
        "outputId": "71cf9fca-11cd-4576-953e-7b9ca37ead9b"
      },
      "execution_count": null,
      "outputs": [
        {
          "output_type": "execute_result",
          "data": {
            "text/plain": [
              "['Manta', 'Guayaquil', 'Cuenca', 'Loja', 'la troncal', 'Bucay']"
            ]
          },
          "metadata": {},
          "execution_count": 16
        }
      ]
    },
    {
      "cell_type": "code",
      "source": [
        "ciudades.append('babahoyo')\n",
        "ciudades"
      ],
      "metadata": {
        "colab": {
          "base_uri": "https://localhost:8080/"
        },
        "id": "KhxBbmqIDXUL",
        "outputId": "04ab7115-9a78-41f8-d8c3-70d4f2c21bd1"
      },
      "execution_count": null,
      "outputs": [
        {
          "output_type": "execute_result",
          "data": {
            "text/plain": [
              "['Manta', 'Guayaquil', 'Cuenca', 'Loja', 'la troncal', 'Bucay', 'babahoyo']"
            ]
          },
          "metadata": {},
          "execution_count": 17
        }
      ]
    },
    {
      "cell_type": "code",
      "source": [
        "#extraer el primer elemento\n",
        "ciudades.pop(0)\n",
        "ciudades"
      ],
      "metadata": {
        "colab": {
          "base_uri": "https://localhost:8080/"
        },
        "id": "FS-3ajhYDhSD",
        "outputId": "19af1298-6688-4468-a937-db5d29e4ae73"
      },
      "execution_count": null,
      "outputs": [
        {
          "output_type": "execute_result",
          "data": {
            "text/plain": [
              "['Cuenca', 'Loja', 'la troncal', 'Bucay', 'babahoyo']"
            ]
          },
          "metadata": {},
          "execution_count": 20
        }
      ]
    },
    {
      "cell_type": "code",
      "source": [
        "#leer el último elemento de la lista\n",
        "ciudades[-1]"
      ],
      "metadata": {
        "colab": {
          "base_uri": "https://localhost:8080/",
          "height": 35
        },
        "id": "Or91HBA2Do3o",
        "outputId": "a9212ce8-6103-4732-a6ca-4e24197c0dac"
      },
      "execution_count": null,
      "outputs": [
        {
          "output_type": "execute_result",
          "data": {
            "text/plain": [
              "'babahoyo'"
            ],
            "application/vnd.google.colaboratory.intrinsic+json": {
              "type": "string"
            }
          },
          "metadata": {},
          "execution_count": 19
        }
      ]
    },
    {
      "cell_type": "markdown",
      "source": [
        "**Libreria Numpy**"
      ],
      "metadata": {
        "id": "kXCGPmQbFPJc"
      }
    },
    {
      "cell_type": "code",
      "source": [
        "np.pi"
      ],
      "metadata": {
        "colab": {
          "base_uri": "https://localhost:8080/"
        },
        "id": "iU05s4OcFWsW",
        "outputId": "0532bdce-99db-4ab6-d08a-2c0c23257635"
      },
      "execution_count": null,
      "outputs": [
        {
          "output_type": "execute_result",
          "data": {
            "text/plain": [
              "3.141592653589793"
            ]
          },
          "metadata": {},
          "execution_count": 21
        }
      ]
    },
    {
      "cell_type": "code",
      "source": [
        "np.exp(1)"
      ],
      "metadata": {
        "colab": {
          "base_uri": "https://localhost:8080/"
        },
        "id": "ILQ7tES3FbOP",
        "outputId": "5380de6a-146a-49db-fc5a-57fa94dc9194"
      },
      "execution_count": null,
      "outputs": [
        {
          "output_type": "execute_result",
          "data": {
            "text/plain": [
              "np.float64(2.718281828459045)"
            ]
          },
          "metadata": {},
          "execution_count": 22
        }
      ]
    },
    {
      "cell_type": "code",
      "source": [
        "np.sin(np.pi/4)"
      ],
      "metadata": {
        "colab": {
          "base_uri": "https://localhost:8080/"
        },
        "id": "54XRP2PHFftu",
        "outputId": "7751c038-282a-4013-80f3-0b42a59a2509"
      },
      "execution_count": null,
      "outputs": [
        {
          "output_type": "execute_result",
          "data": {
            "text/plain": [
              "np.float64(0.7071067811865475)"
            ]
          },
          "metadata": {},
          "execution_count": 23
        }
      ]
    },
    {
      "cell_type": "code",
      "source": [
        "np.sqrt(2)"
      ],
      "metadata": {
        "colab": {
          "base_uri": "https://localhost:8080/"
        },
        "id": "XihdRYB3FnrY",
        "outputId": "7ffbb661-250b-4aad-9fd3-0e12aea2f7c2"
      },
      "execution_count": null,
      "outputs": [
        {
          "output_type": "execute_result",
          "data": {
            "text/plain": [
              "np.float64(1.4142135623730951)"
            ]
          },
          "metadata": {},
          "execution_count": 25
        }
      ]
    },
    {
      "cell_type": "code",
      "source": [
        "2**(1/2)"
      ],
      "metadata": {
        "colab": {
          "base_uri": "https://localhost:8080/"
        },
        "id": "0QGU77E0GFoy",
        "outputId": "3b107da3-2312-4982-ab7f-39f5043a21dd"
      },
      "execution_count": null,
      "outputs": [
        {
          "output_type": "execute_result",
          "data": {
            "text/plain": [
              "1.4142135623730951"
            ]
          },
          "metadata": {},
          "execution_count": 26
        }
      ]
    },
    {
      "cell_type": "code",
      "source": [
        "t=np.linspace(3,12,101)\n",
        "t"
      ],
      "metadata": {
        "colab": {
          "base_uri": "https://localhost:8080/"
        },
        "id": "saxSYP_cGIXK",
        "outputId": "4fbea8f7-9c65-4f36-c531-045f758fbbb3"
      },
      "execution_count": null,
      "outputs": [
        {
          "output_type": "execute_result",
          "data": {
            "text/plain": [
              "array([ 3.  ,  3.09,  3.18,  3.27,  3.36,  3.45,  3.54,  3.63,  3.72,\n",
              "        3.81,  3.9 ,  3.99,  4.08,  4.17,  4.26,  4.35,  4.44,  4.53,\n",
              "        4.62,  4.71,  4.8 ,  4.89,  4.98,  5.07,  5.16,  5.25,  5.34,\n",
              "        5.43,  5.52,  5.61,  5.7 ,  5.79,  5.88,  5.97,  6.06,  6.15,\n",
              "        6.24,  6.33,  6.42,  6.51,  6.6 ,  6.69,  6.78,  6.87,  6.96,\n",
              "        7.05,  7.14,  7.23,  7.32,  7.41,  7.5 ,  7.59,  7.68,  7.77,\n",
              "        7.86,  7.95,  8.04,  8.13,  8.22,  8.31,  8.4 ,  8.49,  8.58,\n",
              "        8.67,  8.76,  8.85,  8.94,  9.03,  9.12,  9.21,  9.3 ,  9.39,\n",
              "        9.48,  9.57,  9.66,  9.75,  9.84,  9.93, 10.02, 10.11, 10.2 ,\n",
              "       10.29, 10.38, 10.47, 10.56, 10.65, 10.74, 10.83, 10.92, 11.01,\n",
              "       11.1 , 11.19, 11.28, 11.37, 11.46, 11.55, 11.64, 11.73, 11.82,\n",
              "       11.91, 12.  ])"
            ]
          },
          "metadata": {},
          "execution_count": 29
        }
      ]
    },
    {
      "cell_type": "code",
      "source": [
        "#indice de masa corporal\n",
        "peso=np.array([75,76,77,78])\n",
        "altura=np.array([1.87,1.82,1.83,1.92])\n",
        "imc=peso/(altura**2)\n",
        "imc"
      ],
      "metadata": {
        "colab": {
          "base_uri": "https://localhost:8080/"
        },
        "id": "52954GbSGx-P",
        "outputId": "72512601-2ab7-436f-9106-334fa1f587fa"
      },
      "execution_count": null,
      "outputs": [
        {
          "output_type": "execute_result",
          "data": {
            "text/plain": [
              "array([21.44756785, 22.94408888, 22.99262444, 21.15885417])"
            ]
          },
          "metadata": {},
          "execution_count": 30
        }
      ]
    },
    {
      "cell_type": "code",
      "source": [
        "#resolver el sistema de ecuaciones\n",
        "A=np.array([[1,2,3],[2,3,2],[3,1,-1]])\n",
        "B=np.array([6,14,-2])\n",
        "X=np.linalg.solve(A,B)\n",
        "X"
      ],
      "metadata": {
        "colab": {
          "base_uri": "https://localhost:8080/"
        },
        "id": "o7GVcUXUHmZJ",
        "outputId": "a80b1f37-0fc9-4b9a-bb61-48338910be7a"
      },
      "execution_count": null,
      "outputs": [
        {
          "output_type": "execute_result",
          "data": {
            "text/plain": [
              "array([-5., 10., -3.])"
            ]
          },
          "metadata": {},
          "execution_count": 31
        }
      ]
    },
    {
      "cell_type": "code",
      "source": [
        "A=np.array([[1,4,1],[2,-3,2],[3,0,-1]])\n",
        "B=np.array([[5,3,1],[-1,0,4],[4,2,1]])\n",
        "print(\"la suma de la matriz es:\")\n",
        "print(A+B)\n",
        "print(\"la resta de la matriz es:\")\n",
        "print(A-B)\n",
        "print(\"el producto de la matriz es:\")\n",
        "print(A*B)"
      ],
      "metadata": {
        "colab": {
          "base_uri": "https://localhost:8080/"
        },
        "id": "vL3x7QI-IVCN",
        "outputId": "c31d9f08-6a3f-45df-ad9a-f6529a1975c9"
      },
      "execution_count": null,
      "outputs": [
        {
          "output_type": "stream",
          "name": "stdout",
          "text": [
            "la suma de la matriz es:\n",
            "[[ 6  7  2]\n",
            " [ 1 -3  6]\n",
            " [ 7  2  0]]\n",
            "la resta de la matriz es:\n",
            "[[-4  1  0]\n",
            " [ 3 -3 -2]\n",
            " [-1 -2 -2]]\n",
            "el producto de la matriz es:\n",
            "[[ 5 12  1]\n",
            " [-2  0  8]\n",
            " [12  0 -1]]\n"
          ]
        }
      ]
    },
    {
      "cell_type": "markdown",
      "source": [
        "### Numeros aleatorios"
      ],
      "metadata": {
        "id": "EYHX400iJmIo"
      }
    },
    {
      "cell_type": "code",
      "source": [
        "x=round(rnd.random(),3)\n",
        "x"
      ],
      "metadata": {
        "colab": {
          "base_uri": "https://localhost:8080/"
        },
        "id": "-KEOCcUrJqGC",
        "outputId": "271b12d8-26f5-470f-ff6e-96e4b4bcb9e1"
      },
      "execution_count": null,
      "outputs": [
        {
          "output_type": "execute_result",
          "data": {
            "text/plain": [
              "0.537"
            ]
          },
          "metadata": {},
          "execution_count": 36
        }
      ]
    },
    {
      "cell_type": "code",
      "source": [
        "y=rnd.randint(20,100)\n",
        "y"
      ],
      "metadata": {
        "colab": {
          "base_uri": "https://localhost:8080/"
        },
        "id": "i4ia6rXuKBy1",
        "outputId": "c86a861d-273a-4bae-d440-253aa0d6967b"
      },
      "execution_count": null,
      "outputs": [
        {
          "output_type": "execute_result",
          "data": {
            "text/plain": [
              "58"
            ]
          },
          "metadata": {},
          "execution_count": 38
        }
      ]
    },
    {
      "cell_type": "code",
      "source": [
        "#Generar 10 numeros aleatorios\n",
        "M=[round(rnd.random(),2) for e in range(10)]\n",
        "M"
      ],
      "metadata": {
        "colab": {
          "base_uri": "https://localhost:8080/"
        },
        "id": "Y4eOFKhAKL2Y",
        "outputId": "dbc142ce-d817-403f-e5c5-deba185c5e66"
      },
      "execution_count": null,
      "outputs": [
        {
          "output_type": "execute_result",
          "data": {
            "text/plain": [
              "[0.64, 0.13, 0.06, 0.65, 0.46, 0.43, 0.52, 0.11, 0.41, 0.72]"
            ]
          },
          "metadata": {},
          "execution_count": 40
        }
      ]
    },
    {
      "cell_type": "code",
      "source": [
        "#Generar una matriz de aleatorios enteros\n",
        "G=[[rnd.randint(40,100) for e in range(8)]for e in range(10)]"
      ],
      "metadata": {
        "colab": {
          "base_uri": "https://localhost:8080/",
          "height": 159
        },
        "id": "omTqDgySKm20",
        "outputId": "b68952a2-2ca1-413c-cb0f-01f5936c8000"
      },
      "execution_count": null,
      "outputs": [
        {
          "output_type": "error",
          "ename": "SyntaxError",
          "evalue": "incomplete input (ipython-input-966649853.py, line 2)",
          "traceback": [
            "\u001b[0;36m  File \u001b[0;32m\"/tmp/ipython-input-966649853.py\"\u001b[0;36m, line \u001b[0;32m2\u001b[0m\n\u001b[0;31m    G=[[rnd.randint(40,100) for e in range(10)]\u001b[0m\n\u001b[0m                                               ^\u001b[0m\n\u001b[0;31mSyntaxError\u001b[0m\u001b[0;31m:\u001b[0m incomplete input\n"
          ]
        }
      ]
    }
  ]
}